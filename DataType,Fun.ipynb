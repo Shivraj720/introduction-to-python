{
 "cells": [
  {
   "cell_type": "markdown",
   "id": "17c5e7d9",
   "metadata": {},
   "source": [
    "# Print"
   ]
  },
  {
   "cell_type": "code",
   "execution_count": 25,
   "id": "7d2f7895",
   "metadata": {},
   "outputs": [
    {
     "name": "stdout",
     "output_type": "stream",
     "text": [
      "5\n",
      "12345"
     ]
    }
   ],
   "source": [
    "n=int(input())\n",
    "for i in range(1, n+1):\n",
    "    print(i, end='')"
   ]
  },
  {
   "cell_type": "markdown",
   "id": "76555e5f",
   "metadata": {},
   "source": [
    "# Data Type"
   ]
  },
  {
   "cell_type": "code",
   "execution_count": 1,
   "id": "929a66a2",
   "metadata": {},
   "outputs": [
    {
     "name": "stdout",
     "output_type": "stream",
     "text": [
      "1\n",
      "1\n",
      "-3\n",
      "-2\n"
     ]
    }
   ],
   "source": [
    "print(int(1.2321))\n",
    "print(int(1.747))\n",
    "print(int(-3.94535))\n",
    "print(int(-2.19774))"
   ]
  },
  {
   "cell_type": "code",
   "execution_count": 3,
   "id": "c49b1947",
   "metadata": {},
   "outputs": [
    {
     "name": "stdout",
     "output_type": "stream",
     "text": [
      "1.0\n",
      "<class 'float'>\n",
      "1\n",
      "<class 'int'>\n"
     ]
    }
   ],
   "source": [
    "x=1.0\n",
    "print(x)\n",
    "print(type(x))\n",
    "y=int(x)\n",
    "print(y)\n",
    "print(type(y))"
   ]
  },
  {
   "cell_type": "markdown",
   "id": "17318246",
   "metadata": {},
   "source": [
    "# -1.1 to -1.9 rounded upto -1"
   ]
  },
  {
   "cell_type": "code",
   "execution_count": 4,
   "id": "679d9fd2",
   "metadata": {},
   "outputs": [
    {
     "name": "stdout",
     "output_type": "stream",
     "text": [
      "3\n"
     ]
    }
   ],
   "source": [
    "print(3*True)"
   ]
  },
  {
   "cell_type": "markdown",
   "id": "5e7eedb3",
   "metadata": {},
   "source": [
    "# Boolean"
   ]
  },
  {
   "cell_type": "code",
   "execution_count": 8,
   "id": "e21fe4b3",
   "metadata": {},
   "outputs": [
    {
     "name": "stdout",
     "output_type": "stream",
     "text": [
      "3\n",
      "-3.1\n",
      "<class 'str'>\n",
      "0\n",
      "\n",
      "abc\n"
     ]
    }
   ],
   "source": [
    "print(3 * True)\n",
    "print(-3.1 * True)\n",
    "print(type(\"abc\" * False))\n",
    "print(len(\"abc\" * False))\n",
    "print(\"abc\" * False)\n",
    "print(\"abc\" * True)"
   ]
  },
  {
   "cell_type": "code",
   "execution_count": 9,
   "id": "4c9bdcab",
   "metadata": {},
   "outputs": [
    {
     "name": "stdout",
     "output_type": "stream",
     "text": [
      "0\n",
      "1\n",
      "1\n",
      "2\n",
      "3\n"
     ]
    }
   ],
   "source": [
    "print(False + False)\n",
    "print(True + False)\n",
    "print(False + True)\n",
    "print(True + True)\n",
    "print(False + True + True + True)"
   ]
  },
  {
   "cell_type": "markdown",
   "id": "48e1fc97",
   "metadata": {},
   "source": [
    "* Means True=1"
   ]
  },
  {
   "cell_type": "markdown",
   "id": "2044ea59",
   "metadata": {},
   "source": [
    "# Function"
   ]
  },
  {
   "cell_type": "code",
   "execution_count": 10,
   "id": "615b20d6",
   "metadata": {},
   "outputs": [],
   "source": [
    "def get_cost(beds,baths,has_basement):\n",
    "    value=80000+(beds*30000)+(baths*10000)+(has_basement*40000)\n",
    "    return value"
   ]
  },
  {
   "cell_type": "code",
   "execution_count": 11,
   "id": "dc8a60ea",
   "metadata": {},
   "outputs": [
    {
     "data": {
      "text/plain": [
       "210000"
      ]
     },
     "execution_count": 11,
     "metadata": {},
     "output_type": "execute_result"
    }
   ],
   "source": [
    "get_cost(2,3,True)"
   ]
  },
  {
   "cell_type": "markdown",
   "id": "0b6458f4",
   "metadata": {},
   "source": [
    "You own an online shop where you sell rings with custom engravings. You offer both gold plated and solid gold rings.\n",
    "\n",
    "Gold plated rings have a base cost of $50, and you charge $7 per engraved unit.\n",
    "\n",
    "Solid gold rings have a base cost of $100, and you charge $10 per engraved unit.\n",
    "\n",
    "Spaces and punctuation are counted as engraved units.\n",
    "\n",
    "Write a function cost_of_project() that takes two arguments:\n",
    "\n",
    "engraving - a Python string with the text of the engraving\n",
    "\n",
    "solid_gold - a Boolean that indicates whether the ring is solid gold"
   ]
  },
  {
   "cell_type": "code",
   "execution_count": 15,
   "id": "e62f2e47",
   "metadata": {},
   "outputs": [],
   "source": [
    "def cost_of_project(engraving, solid_gold):\n",
    "    cost=solid_gold * (100+ 10*len(engraving)) + (not solid_gold) * (50 + 7* len(engraving))\n",
    "    return cost"
   ]
  },
  {
   "cell_type": "code",
   "execution_count": 16,
   "id": "7ad3e8d8",
   "metadata": {},
   "outputs": [
    {
     "data": {
      "text/plain": [
       "190"
      ]
     },
     "execution_count": 16,
     "metadata": {},
     "output_type": "execute_result"
    }
   ],
   "source": [
    "cost_of_project(\"Char+Denv\",True)"
   ]
  },
  {
   "cell_type": "code",
   "execution_count": 17,
   "id": "068d30af",
   "metadata": {},
   "outputs": [
    {
     "data": {
      "text/plain": [
       "9"
      ]
     },
     "execution_count": 17,
     "metadata": {},
     "output_type": "execute_result"
    }
   ],
   "source": [
    "len('Char+Denv')"
   ]
  },
  {
   "cell_type": "code",
   "execution_count": 18,
   "id": "26c59a4e",
   "metadata": {},
   "outputs": [
    {
     "data": {
      "text/plain": [
       "240"
      ]
     },
     "execution_count": 18,
     "metadata": {},
     "output_type": "execute_result"
    }
   ],
   "source": [
    "cost_of_project(\"Charlie+Denver\",True)"
   ]
  },
  {
   "cell_type": "code",
   "execution_count": 22,
   "id": "53a93ce6",
   "metadata": {},
   "outputs": [
    {
     "data": {
      "text/plain": [
       "148"
      ]
     },
     "execution_count": 22,
     "metadata": {},
     "output_type": "execute_result"
    }
   ],
   "source": [
    "cost_of_project(\"Charlie+Denver\",False)"
   ]
  },
  {
   "cell_type": "code",
   "execution_count": 19,
   "id": "8ffff9fe",
   "metadata": {},
   "outputs": [
    {
     "data": {
      "text/plain": [
       "120"
      ]
     },
     "execution_count": 19,
     "metadata": {},
     "output_type": "execute_result"
    }
   ],
   "source": [
    "cost_of_project(\"08/10/2000\",False)"
   ]
  },
  {
   "cell_type": "code",
   "execution_count": 20,
   "id": "4485e262",
   "metadata": {},
   "outputs": [
    {
     "data": {
      "text/plain": [
       "10"
      ]
     },
     "execution_count": 20,
     "metadata": {},
     "output_type": "execute_result"
    }
   ],
   "source": [
    "len(\"08/10/2000\")"
   ]
  },
  {
   "cell_type": "code",
   "execution_count": 21,
   "id": "650cdcea",
   "metadata": {},
   "outputs": [
    {
     "data": {
      "text/plain": [
       "200"
      ]
     },
     "execution_count": 21,
     "metadata": {},
     "output_type": "execute_result"
    }
   ],
   "source": [
    "cost_of_project(\"08/10/2000\",True)"
   ]
  },
  {
   "cell_type": "markdown",
   "id": "04590757",
   "metadata": {},
   "source": [
    "# Fabonacci"
   ]
  },
  {
   "cell_type": "code",
   "execution_count": 23,
   "id": "419a0726",
   "metadata": {},
   "outputs": [
    {
     "name": "stdout",
     "output_type": "stream",
     "text": [
      "Enter any number:3\n",
      "0112\n"
     ]
    }
   ],
   "source": [
    "num = int(input(\"Enter any number:\"))\n",
    "a = 0\n",
    "b = 1\n",
    "sum = 0\n",
    "if num<=0:\n",
    "    print(\"please enter number greater than 0\")\n",
    "\n",
    "else:\n",
    "    for i in range(0, num):\n",
    "        print(sum, end='')\n",
    "        a = b\n",
    "        b = sum\n",
    "        sum = a + b\n",
    "print(sum)"
   ]
  }
 ],
 "metadata": {
  "kernelspec": {
   "display_name": "Python 3 (ipykernel)",
   "language": "python",
   "name": "python3"
  },
  "language_info": {
   "codemirror_mode": {
    "name": "ipython",
    "version": 3
   },
   "file_extension": ".py",
   "mimetype": "text/x-python",
   "name": "python",
   "nbconvert_exporter": "python",
   "pygments_lexer": "ipython3",
   "version": "3.9.12"
  }
 },
 "nbformat": 4,
 "nbformat_minor": 5
}
